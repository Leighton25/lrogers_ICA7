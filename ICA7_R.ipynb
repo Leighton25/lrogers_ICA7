{
  "nbformat": 4,
  "nbformat_minor": 0,
  "metadata": {
    "colab": {
      "provenance": [],
      "authorship_tag": "ABX9TyPdE0gL6RkyGqlW1+r7FhJD",
      "include_colab_link": true
    },
    "kernelspec": {
      "name": "ir",
      "display_name": "R"
    },
    "language_info": {
      "name": "R"
    }
  },
  "cells": [
    {
      "cell_type": "markdown",
      "metadata": {
        "id": "view-in-github",
        "colab_type": "text"
      },
      "source": [
        "<a href=\"https://colab.research.google.com/github/Leighton25/lrogers_ICA7/blob/main/ICA7_R.ipynb\" target=\"_parent\"><img src=\"https://colab.research.google.com/assets/colab-badge.svg\" alt=\"Open In Colab\"/></a>"
      ]
    },
    {
      "cell_type": "code",
      "execution_count": 20,
      "metadata": {
        "colab": {
          "base_uri": "https://localhost:8080/",
          "height": 498
        },
        "id": "mrrNu2kKgabY",
        "outputId": "281f5216-d4c0-4f97-f16c-ac4739a71458"
      },
      "outputs": [
        {
          "output_type": "stream",
          "name": "stderr",
          "text": [
            "\u001b[1m\u001b[22mThe \u001b[34mgoogledrive\u001b[39m package is requesting access to your Google account.\n",
            "Enter '1' to start a new auth process or select a pre-authorized account.\n",
            "\u001b[1m1\u001b[22m: Send me to the browser for a new auth process.\n",
            "\u001b[1m2\u001b[22m: leightn@umich.edu\n"
          ]
        },
        {
          "name": "stdout",
          "output_type": "stream",
          "text": [
            "Selection: 2\n"
          ]
        },
        {
          "output_type": "stream",
          "name": "stderr",
          "text": [
            "File downloaded:\n",
            "\n",
            "• \u001b[36mboxoffice.csv\u001b[39m \u001b[90m<id: 1Dlxsu88Nm-tb1aqfrGEERg4iET3VIXDp>\u001b[39m\n",
            "\n",
            "Saved locally as:\n",
            "\n",
            "• \u001b[34mlocal_file.csv\u001b[39m\n",
            "\n"
          ]
        },
        {
          "output_type": "display_data",
          "data": {
            "text/html": [
              "<table class=\"dataframe\">\n",
              "<caption>A data.frame: 5 × 5</caption>\n",
              "<thead>\n",
              "\t<tr><th></th><th scope=col>rank</th><th scope=col>title</th><th scope=col>title_short</th><th scope=col>amount</th><th scope=col>amount_text</th></tr>\n",
              "\t<tr><th></th><th scope=col>&lt;int&gt;</th><th scope=col>&lt;chr&gt;</th><th scope=col>&lt;chr&gt;</th><th scope=col>&lt;int&gt;</th><th scope=col>&lt;chr&gt;</th></tr>\n",
              "</thead>\n",
              "<tbody>\n",
              "\t<tr><th scope=row>1</th><td>1</td><td>Star Wars: The Last Jedi      </td><td>Star Wars       </td><td>71565498</td><td>$71 </td></tr>\n",
              "\t<tr><th scope=row>2</th><td>2</td><td>Jumanji: Welcome to the Jungle</td><td>Jumanji         </td><td>36169328</td><td>$36 </td></tr>\n",
              "\t<tr><th scope=row>3</th><td>3</td><td>Pitch Perfect 3               </td><td>Pitch Perfect 3 </td><td>19928525</td><td>$19 </td></tr>\n",
              "\t<tr><th scope=row>4</th><td>4</td><td>The Greatest Showman          </td><td>Greatest Showman</td><td> 8805843</td><td>$8  </td></tr>\n",
              "\t<tr><th scope=row>5</th><td>5</td><td>Ferdinand                     </td><td>Ferdinand       </td><td> 7316746</td><td>$7  </td></tr>\n",
              "</tbody>\n",
              "</table>\n"
            ],
            "text/markdown": "\nA data.frame: 5 × 5\n\n| <!--/--> | rank &lt;int&gt; | title &lt;chr&gt; | title_short &lt;chr&gt; | amount &lt;int&gt; | amount_text &lt;chr&gt; |\n|---|---|---|---|---|---|\n| 1 | 1 | Star Wars: The Last Jedi       | Star Wars        | 71565498 | $71  |\n| 2 | 2 | Jumanji: Welcome to the Jungle | Jumanji          | 36169328 | $36  |\n| 3 | 3 | Pitch Perfect 3                | Pitch Perfect 3  | 19928525 | $19  |\n| 4 | 4 | The Greatest Showman           | Greatest Showman |  8805843 | $8   |\n| 5 | 5 | Ferdinand                      | Ferdinand        |  7316746 | $7   |\n\n",
            "text/latex": "A data.frame: 5 × 5\n\\begin{tabular}{r|lllll}\n  & rank & title & title\\_short & amount & amount\\_text\\\\\n  & <int> & <chr> & <chr> & <int> & <chr>\\\\\n\\hline\n\t1 & 1 & Star Wars: The Last Jedi       & Star Wars        & 71565498 & \\$71 \\\\\n\t2 & 2 & Jumanji: Welcome to the Jungle & Jumanji          & 36169328 & \\$36 \\\\\n\t3 & 3 & Pitch Perfect 3                & Pitch Perfect 3  & 19928525 & \\$19 \\\\\n\t4 & 4 & The Greatest Showman           & Greatest Showman &  8805843 & \\$8  \\\\\n\t5 & 5 & Ferdinand                      & Ferdinand        &  7316746 & \\$7  \\\\\n\\end{tabular}\n",
            "text/plain": [
              "  rank title                          title_short      amount   amount_text\n",
              "1 1    Star Wars: The Last Jedi       Star Wars        71565498 $71        \n",
              "2 2    Jumanji: Welcome to the Jungle Jumanji          36169328 $36        \n",
              "3 3    Pitch Perfect 3                Pitch Perfect 3  19928525 $19        \n",
              "4 4    The Greatest Showman           Greatest Showman  8805843 $8         \n",
              "5 5    Ferdinand                      Ferdinand         7316746 $7         "
            ]
          },
          "metadata": {}
        },
        {
          "output_type": "stream",
          "name": "stdout",
          "text": [
            "[1] 71565498\n"
          ]
        }
      ],
      "source": [
        "library(googledrive)\n",
        "library(readr)\n",
        "\n",
        "drive_auth(use_oob = TRUE, cache = TRUE)\n",
        "\n",
        "file <- drive_find(\"boxoffice.csv\")\n",
        "drive_download(file$id, path = \"local_file.csv\", overwrite = TRUE)\n",
        "boxoffice <- read.csv(\"local_file.csv\")\n",
        "\n",
        "head(boxoffice)\n",
        "\n",
        "star_wars_amount <- boxoffice[boxoffice$title_short == \"Star Wars\", \"amount\"]\n",
        "\n",
        "print(star_wars_amount)\n"
      ]
    }
  ]
}